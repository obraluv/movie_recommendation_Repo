{
 "cells": [
  {
   "cell_type": "code",
   "execution_count": 2,
   "metadata": {},
   "outputs": [
    {
     "name": "stdout",
     "output_type": "stream",
     "text": [
      "{'Movie A': 'When Hiccup discovers Toothless isn\\'t the only Night Fury, he must seek \"The Hidden World\", a secret Dragon Utopia before a hired tyrant named Grimmel finds it first.', 'Movie B': 'After the death of Superman, several new people present themselves as possible successors.', 'Movie C': 'A darkness swirls at the center of a world-renowned dance company, one that will engulf the artistic director, an ambitious young dancer, and a grieving psychotherapist. Some will succumb to the nightmare. Others will finally wake up.', 'Movie D': \"A humorous take on Sir Arthur Conan Doyle's classic mysteries featuring Sherlock Holmes and Doctor Watson.\", 'Movie E': 'A 16-year-old girl and her extended family are left reeling after her calculating grandmother unveils an array of secrets on her deathbed.', 'Movie F': \"In the last moments of World War II, a young German soldier fighting for survival finds a Nazi captain's uniform. Impersonating an officer, the man quickly takes on the monstrous identity of the perpetrators he is trying to escape from.\", 'Movie G': 'The world at an end, a dying mother sends her young son on a quest to find the place that grants wishes.', 'Movie H': 'A musician helps a young singer and actress find fame, even as age and alcoholism send his own career into a downward spiral.', 'Movie I': 'Corporate analyst and single mom, Jen, tackles Christmas with a business-like approach until her uncle arrives with a handsome stranger in tow.', 'Movie J': 'Adapted from the bestselling novel by Madeleine St John, Ladies in Black is an alluring and tender-hearted comedy drama about the lives of a group of department store employees in 1959 Sydney.'}\n"
     ]
    }
   ],
   "source": [
    "#Import the spaCy library, which is used for natural language processing (NLP) tasks.\n",
    "import spacy\n",
    "\n",
    "#Load the spaCy medium-sized English language model.\n",
    "nlp = spacy.load('en_core_web_md') \n",
    "\n",
    "# this line of code will open the movies.txt file in read mode\n",
    "movies_file_path = open(\"movies.txt\", \"r\")  \n",
    "\n",
    "# an empty dictionary to store items in our movies file (title and description) is created\n",
    "movies_data = {}  \n",
    "\n",
    "# a for loop is used to iterate over each movie in our movies_files\n",
    "for movie in movies_file_path:  \n",
    "    \n",
    "    # this line of code split each movie at the colon ':' to separate key and value\n",
    "    title, description = movie.strip().split(\":\") \n",
    "    \n",
    "    # here, any leading or trailing whitespace is stripped and\n",
    "    # a key-value pair is added to our dictionary(movies_dict) which are title-description respectively\n",
    "    movies_data[title.strip()] = description.strip()  \n",
    "\n",
    "print(movies_data)  # our movies is printed out as a dictionary\n"
   ]
  },
  {
   "cell_type": "code",
   "execution_count": 3,
   "metadata": {},
   "outputs": [],
   "source": [
    "# We'll transform movie descriptions into numerical vectors using spaCy's word vectors.\n",
    "\n",
    "def get_vector(text): \n",
    "    \"\"\"Takes any text of our choice as input in order to transform our text into numerical vectors\"\"\"\n",
    "    # this code tokenize our text\n",
    "    doc = nlp(text)\n",
    "    # and return tokenize text . vector\n",
    "    return doc.vector\n",
    "\n",
    "# Create a new dictionary to store movie vectors\n",
    "movies_vectors = {}\n",
    "\n",
    "# Iterate over movie titles and descriptions in movies_dict\n",
    "for title, description in movies_data.items():\n",
    "    \n",
    "    # this line code call our function and our text of choice to input is the movie description\n",
    "    # and we get the vector representation of the movie description\n",
    "    vector = get_vector(description)\n",
    "    \n",
    "    # we store the vector in the movies_vectors dictionary with the movie title as the key\n",
    "    movies_vectors[title] = vector\n",
    "\n",
    "#for title, vector in movies_vectors.items():\n",
    "    #print(title, \":\", vector)"
   ]
  },
  {
   "cell_type": "code",
   "execution_count": 4,
   "metadata": {},
   "outputs": [],
   "source": [
    "# a variable (Planet_Hulk) is created \n",
    "# to store the description of the movies we are finding similar movies for from the movies dictionary .\n",
    "\n",
    "Planet_Hulk = '''\n",
    "Will he save\n",
    "their world or destroy it? When the Hulk becomes too dangerous for the\n",
    "Earth, the Illuminati trick Hulk into a shuttle and launch him into space to a\n",
    "planet where the Hulk can live in peace. Unfortunately, Hulk lands on the\n",
    "planet Sakaar where he is sold into slavery and trained as a gladiator.\n",
    "'''\n",
    "# we have to vectorize the description of the Planet Hulk movies inorder to compare with other movies in our dictionary\n",
    "Planet_Hulk_vector = get_vector(Planet_Hulk)\n",
    "Planet_Hulk_vector = Planet_Hulk_vector.reshape(1, -1)  # reshape into a 2D array to make sure our description is fit for feed into our model\n"
   ]
  },
  {
   "cell_type": "code",
   "execution_count": 10,
   "metadata": {},
   "outputs": [
    {
     "name": "stdout",
     "output_type": "stream",
     "text": [
      "Similarity Scores:\n",
      "Movie A: 0.84\n",
      "Movie B: 0.84\n",
      "Movie C: 0.91\n",
      "Movie D: 0.54\n",
      "Movie E: 0.73\n",
      "Movie F: 0.89\n",
      "Movie G: 0.90\n",
      "Movie H: 0.83\n",
      "Movie I: 0.84\n",
      "Movie J: 0.75\n",
      "Recommended Film: Movie C\n"
     ]
    }
   ],
   "source": [
    "# import models to find similaritys between movies\n",
    "from sklearn.metrics.pairwise import cosine_similarity\n",
    "\n",
    "# a dictionary named scores is created to store the similarity scores between different movies \n",
    "scores = {}\n",
    "\n",
    "\n",
    "def movies_to_recommend(title, vector):\n",
    "    \"\"\"Calculates similarity scores and recommend movies based on this scores\"\"\"\n",
    "    \n",
    "    # create a for loop to iterate over title and vector in each movies_vectors dictionary \n",
    "    for title, vector in movies_vectors.items(): \n",
    "        \n",
    "        # the line of code below calculates the cosine similarity between the planet Hulk description vector \n",
    "        #and that of our movies_vectors, our movies_vectors is also reshape and similarity score modified to single scalar value \n",
    "        similarity = cosine_similarity(Planet_Hulk_vector, vector.reshape(1, -1))[0][0]\n",
    "        \n",
    "        # the dictionary variable(scores) is assigned a key (title) and value (similarity),\n",
    "        #thereby associates the similarity score with the corresponding movie title in the scores dictionary.\n",
    "        scores[title] = similarity\n",
    "\n",
    "movies_to_recommend(title, vector) # we call our function\n",
    "\n",
    "\n",
    "# this line of code finds the film with the highest similarity score\n",
    "recommended_film = max(scores, key=scores.get)\n",
    "print(\"Similarity Scores:\")\n",
    "\n",
    "#this line of code will iterate over each movie and score in the scores dictionary\n",
    "for movie, score in scores.items():\n",
    "    print(f\"{movie}: {score :.2f}\")\n",
    "\n",
    "# Print the recommended film with the highest similarity score\n",
    "print(f\"Recommended Film: {recommended_film}\")\n"
   ]
  }
 ],
 "metadata": {
  "kernelspec": {
   "display_name": "Python 3",
   "language": "python",
   "name": "python3"
  },
  "language_info": {
   "codemirror_mode": {
    "name": "ipython",
    "version": 3
   },
   "file_extension": ".py",
   "mimetype": "text/x-python",
   "name": "python",
   "nbconvert_exporter": "python",
   "pygments_lexer": "ipython3",
   "version": "3.11.8"
  }
 },
 "nbformat": 4,
 "nbformat_minor": 2
}
